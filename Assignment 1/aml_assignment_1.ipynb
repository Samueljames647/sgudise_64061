{
  "nbformat": 4,
  "nbformat_minor": 0,
  "metadata": {
    "colab": {
      "provenance": []
    },
    "kernelspec": {
      "name": "python3",
      "display_name": "Python 3"
    },
    "language_info": {
      "name": "python"
    }
  },
  "cells": [
    {
      "cell_type": "markdown",
      "source": [
        "A case study using iris dataset for KNN algorithm"
      ],
      "metadata": {
        "id": "bca1ZpDIsGD6"
      }
    },
    {
      "cell_type": "code",
      "execution_count": null,
      "metadata": {
        "id": "gwk6dOM0E8Od"
      },
      "outputs": [],
      "source": [
        "# import modules for this project\n",
        "from sklearn import datasets\n",
        "from sklearn.metrics import accuracy_score\n",
        "from sklearn.model_selection import train_test_split\n",
        "\n",
        "# load iris dataset\n",
        "iris = datasets.load_iris()\n",
        "data, labels = iris.data, iris.target\n",
        "\n",
        "# training testing split\n",
        "res = train_test_split(data, labels,\n",
        "                       train_size=0.8,\n",
        "                       test_size=0.2,\n",
        "                       random_state=12)\n",
        "train_data, test_data, train_labels, test_labels = res\n",
        "\n",
        "# Create and fit a nearest-neighbor classifier\n",
        "from sklearn.neighbors import KNeighborsClassifier\n",
        "# classifier \"out of the box\", no parameters\n",
        "knn = KNeighborsClassifier()\n",
        "knn.fit(train_data, train_labels)\n",
        "\n",
        "# print some interested metrics\n",
        "print(\"Predictions from the classifier:\")\n",
        "learn_data_predicted = knn.predict(train_data)\n",
        "print(learn_data_predicted)\n",
        "print(\"Target values:\")\n",
        "print(train_labels)\n",
        "print(accuracy_score(learn_data_predicted, train_labels))\n",
        "\n",
        "# re-do KNN using some specific parameters.\n",
        "knn2 = KNeighborsClassifier(algorithm='auto',\n",
        "                            leaf_size=30,\n",
        "                            metric='minkowski',\n",
        "                            p=2,         # p=2 is equivalent to euclidian distance\n",
        "                            metric_params=None,\n",
        "                            n_jobs=1,\n",
        "                            n_neighbors=5,\n",
        "                            weights='uniform')\n",
        "\n",
        "knn.fit(train_data, train_labels)\n",
        "test_data_predicted = knn.predict(test_data)\n",
        "accuracy_score(test_data_predicted, test_labels)"
      ]
    },
    {
      "cell_type": "markdown",
      "source": [
        "Use this command to help with choice of paramters in the `KNeighborsClassifier` function."
      ],
      "metadata": {
        "id": "EGCbBcE5v3Yp"
      }
    },
    {
      "cell_type": "code",
      "source": [
        "# Simulated dataset provided based on the assignment instructions.\n",
        "from sklearn.datasets import make_blobs\n",
        "from sklearn.model_selection import train_test_split\n",
        "from sklearn.neighbors import KNeighborsClassifier\n",
        "from sklearn.metrics import accuracy_score\n",
        "import numpy as np\n",
        "\n",
        "# Define cluster centers for data generation\n",
        "centers = [[2, 4], [6, 6], [1, 9]]\n",
        "n_classes = len(centers)\n",
        "\n",
        "# Create a synthetic dataset with defined clusters\n",
        "data, labels = make_blobs(n_samples=150,\n",
        "                          centers=np.array(centers),\n",
        "                          random_state=1)"
      ],
      "metadata": {
        "id": "NMCWlJ021o_9"
      },
      "execution_count": 8,
      "outputs": []
    },
    {
      "cell_type": "code",
      "source": [
        "# do a 80-20 split of the data\n",
        "res = train_test_split(data, labels,\n",
        "                       train_size=0.8,\n",
        "                       test_size=0.2,\n",
        "                       random_state=12)\n",
        "train_data, test_data, train_labels, test_labels = res\n",
        "\n",
        "# perform a KNN analysis of the simulated data\n",
        "knn = KNeighborsClassifier()\n",
        "knn.fit(train_data, train_labels)\n",
        "\n",
        "# Predictions for the training dataset\n",
        "learn_data_predicted = knn.predict(train_data)\n",
        "\n",
        "# Display prediction results\n",
        "print(\"Classifier Predictions:\")\n",
        "print(learn_data_predicted)\n",
        "print(\"Actual Target Labels:\")\n",
        "print(train_labels)\n",
        "\n",
        "# output accuracy score\n",
        "print(\"Training Accuracy:\")\n",
        "print(accuracy_score(train_labels, learn_data_predicted))"
      ],
      "metadata": {
        "colab": {
          "base_uri": "https://localhost:8080/",
          "height": 0
        },
        "id": "Z61y1iBn1yQh",
        "outputId": "4487ab78-b030-4367-af72-62a686ba9ceb"
      },
      "execution_count": 9,
      "outputs": [
        {
          "output_type": "stream",
          "name": "stdout",
          "text": [
            "Classifier Predictions:\n",
            "[0 2 1 0 0 1 1 2 2 0 2 2 2 1 1 0 0 2 1 1 0 0 0 1 1 2 0 0 1 0 1 1 1 0 1 2 0\n",
            " 1 0 1 2 2 2 0 2 0 2 2 0 0 0 1 2 2 2 2 1 1 0 1 2 1 2 2 2 0 0 0 0 0 0 0 1 1\n",
            " 2 1 2 1 2 2 1 1 1 0 2 1 2 1 0 1 2 1 0 2 0 1 2 2 0 2 1 0 0 2 1 1 2 2 0 1 1\n",
            " 1 2 2 2 1 1 2 1 2]\n",
            "Actual Target Labels:\n",
            "[0 2 1 0 0 1 1 2 2 0 2 2 2 1 1 0 0 2 1 1 0 0 0 1 1 2 0 0 1 0 1 1 1 0 1 2 0\n",
            " 1 0 1 2 2 2 0 2 0 2 2 0 0 0 1 2 2 2 2 1 1 0 1 2 1 2 2 2 0 0 0 0 0 0 0 1 1\n",
            " 2 1 2 1 2 2 1 1 1 0 2 1 2 1 0 1 2 1 0 2 0 1 2 2 0 2 1 0 0 2 1 1 2 2 0 1 1\n",
            " 1 2 2 2 1 1 2 1 2]\n",
            "Training Accuracy:\n",
            "1.0\n"
          ]
        }
      ]
    },
    {
      "cell_type": "code",
      "source": [
        "# Re-train a KNN classifier using specific parameters\n",
        "knn2 = KNeighborsClassifier(algorithm='auto',\n",
        "                            leaf_size=30,\n",
        "                            metric='minkowski',\n",
        "                            p=2,  # Equivalent to Euclidean distance\n",
        "                            metric_params=None,\n",
        "                            n_jobs=1,\n",
        "                            n_neighbors=5,\n",
        "                            weights='uniform')\n",
        "\n",
        "knn2.fit(train_data, train_labels)\n",
        "test_data_predicted = knn2.predict(test_data)\n",
        "accuracy_score(test_data_predicted, test_labels)"
      ],
      "metadata": {
        "colab": {
          "base_uri": "https://localhost:8080/",
          "height": 0
        },
        "id": "5HtMF2lt13I9",
        "outputId": "b34d2f38-58b1-41e2-ac9c-d081b89a4dcc"
      },
      "execution_count": 10,
      "outputs": [
        {
          "output_type": "execute_result",
          "data": {
            "text/plain": [
              "1.0"
            ]
          },
          "metadata": {},
          "execution_count": 10
        }
      ]
    },
    {
      "cell_type": "code",
      "source": [
        "import matplotlib.pyplot as plt  # Import the plotting library\n",
        "\n",
        "# Calculate accuracy for training and testing datasets\n",
        "train_acc_knn = accuracy_score(learn_data_predicted, train_labels)\n",
        "test_acc_knn2 = accuracy_score(test_data_predicted, test_labels)\n",
        "\n",
        "# plot your different results\n",
        "labels = ['Training Accuracy', 'Testing Accuracy']\n",
        "knn_acc = [train_acc_knn, test_acc_knn2]\n",
        "\n",
        "x = range(len(labels))\n",
        "\n",
        "plt.figure(figsize=(8, 5))\n",
        "plt.bar(x, knn_acc, width=0.4, label='KNN', align='center')\n",
        "\n",
        "plt.xticks(x, labels)\n",
        "plt.ylabel('Accuracy')\n",
        "\n",
        "\n"
      ],
      "metadata": {
        "id": "TwdApZEQwTz9",
        "colab": {
          "base_uri": "https://localhost:8080/",
          "height": 463
        },
        "outputId": "94861a14-515e-4229-c5c4-36a33e7f8b70"
      },
      "execution_count": 11,
      "outputs": [
        {
          "output_type": "execute_result",
          "data": {
            "text/plain": [
              "Text(0, 0.5, 'Accuracy')"
            ]
          },
          "metadata": {},
          "execution_count": 11
        },
        {
          "output_type": "display_data",
          "data": {
            "text/plain": [
              "<Figure size 800x500 with 1 Axes>"
            ],
            "image/png": "[encoded data removed]"
          },
          "metadata": {}
        }
      ]
    },
    {
      "cell_type": "code",
      "source": [
        "help(KNeighborsClassifier)"
      ],
      "metadata": {
        "id": "08A9rmgQ5RQW"
      },
      "execution_count": null,
      "outputs": []
    },
    {
      "cell_type": "markdown",
      "source": [
        "Use the following code to generate an artificial dataset which contain three classes. Conduct a similar KNN analysis to the dataset and report your accuracy."
      ],
      "metadata": {
        "id": "tws-xX2F5WH7"
      }
    }
  ]
}